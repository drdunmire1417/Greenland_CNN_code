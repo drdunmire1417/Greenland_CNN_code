{
  "nbformat": 4,
  "nbformat_minor": 0,
  "metadata": {
    "colab": {
      "name": "change_crs.ipynb",
      "provenance": []
    },
    "kernelspec": {
      "name": "python3",
      "display_name": "Python 3"
    }
  },
  "cells": [
    {
      "cell_type": "code",
      "metadata": {
        "id": "QjY4YMa7ffOq"
      },
      "source": [
        "import gdal\n",
        "import os\n",
        "from glob import glob\n",
        "import numpy as np\n",
        "import matplotlib.pyplot as plt"
      ],
      "execution_count": null,
      "outputs": []
    },
    {
      "cell_type": "code",
      "metadata": {
        "id": "Qfx7TC4pftwm",
        "colab": {
          "base_uri": "https://localhost:8080/",
          "height": 35
        },
        "outputId": "af3aed60-fc0b-418c-9930-314c464d4490"
      },
      "source": [
        "from google.colab import drive\n",
        "drive.mount('/content/drive')"
      ],
      "execution_count": null,
      "outputs": [
        {
          "output_type": "stream",
          "text": [
            "Mounted at /content/drive\n"
          ],
          "name": "stdout"
        }
      ]
    },
    {
      "cell_type": "code",
      "metadata": {
        "id": "Lns0RiXvfkgw"
      },
      "source": [
        "def change_crs(filename): #changes coordinate system to arctic\n",
        "    if 'np' not in filename:\n",
        "        print(filename)\n",
        "        input_raster = gdal.Open(filename)\n",
        "        output_raster = filename[0:-4] + '_np.tif'\n",
        "        gdal.Warp(output_raster,input_raster,dstSRS='EPSG:3995')\n",
        "        os.remove(filename)\n",
        "        "
      ],
      "execution_count": null,
      "outputs": []
    },
    {
      "cell_type": "code",
      "metadata": {
        "id": "Oq1QgUvkflLW",
        "colab": {
          "base_uri": "https://localhost:8080/",
          "height": 155
        },
        "outputId": "b44cc692-c565-452a-8423-470040a556f3"
      },
      "source": [
        "files = sorted(glob('/content/drive/My Drive/Lake detection/*.tif'))\n",
        "\n",
        "for file in files:\n",
        "    change_crs(file)"
      ],
      "execution_count": null,
      "outputs": [
        {
          "output_type": "stream",
          "text": [
            "/content/drive/My Drive/Lake detection/CW1_2018.tif\n",
            "/content/drive/My Drive/Lake detection/CW1_2019.tif\n",
            "/content/drive/My Drive/Lake detection/CW2_2018.tif\n",
            "/content/drive/My Drive/Lake detection/CW2_2019.tif\n",
            "/content/drive/My Drive/Lake detection/CW3_2018.tif\n",
            "/content/drive/My Drive/Lake detection/CW3_2019.tif\n",
            "/content/drive/My Drive/Lake detection/CW4_2018.tif\n",
            "/content/drive/My Drive/Lake detection/CW4_2019.tif\n"
          ],
          "name": "stdout"
        }
      ]
    },
    {
      "cell_type": "code",
      "metadata": {
        "id": "W_RShM1nxTlM"
      },
      "source": [
        ""
      ],
      "execution_count": null,
      "outputs": []
    }
  ]
}