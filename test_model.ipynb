{
  "nbformat": 4,
  "nbformat_minor": 0,
  "metadata": {
    "colab": {
      "name": "test_model.ipynb",
      "provenance": []
    },
    "kernelspec": {
      "name": "python3",
      "display_name": "Python 3"
    },
    "accelerator": "GPU"
  },
  "cells": [
    {
      "cell_type": "code",
      "metadata": {
        "id": "bgyOXyZVclmU"
      },
      "source": [
        "from glob import glob\n",
        "import torch\n",
        "import matplotlib.pyplot as plt\n",
        "import numpy as np\n",
        "import json\n",
        "from torchvision import datasets, models, transforms\n",
        "from PIL import Image\n",
        "from torch.autograd import Variable\n",
        "from torch import nn, optim, cuda\n",
        "import cv2\n",
        "from skimage.transform import rescale, resize\n",
        "from skimage import measure\n",
        "from shapely.geometry import Polygon, MultiPolygon\n",
        "from shutil import copyfile"
      ],
      "execution_count": null,
      "outputs": []
    },
    {
      "cell_type": "code",
      "metadata": {
        "id": "0e9lHCZuc7rY",
        "colab": {
          "base_uri": "https://localhost:8080/"
        },
        "outputId": "953d97ac-10ec-4c0a-f9b9-b47c5589e568"
      },
      "source": [
        "device = torch.device(\"cuda\" if torch.cuda.is_available() \n",
        "                                  else \"cpu\")\n",
        "print(device)\n",
        "\n",
        "from google.colab import drive\n",
        "\n",
        "drive.mount('/content/drive')"
      ],
      "execution_count": null,
      "outputs": [
        {
          "output_type": "stream",
          "text": [
            "cuda\n",
            "Mounted at /content/drive\n"
          ],
          "name": "stdout"
        }
      ]
    },
    {
      "cell_type": "markdown",
      "metadata": {
        "id": "MrW_DsLnJFf7"
      },
      "source": [
        "# **Get Model**"
      ]
    },
    {
      "cell_type": "code",
      "metadata": {
        "id": "BXYso5irdB34"
      },
      "source": [
        "model_version = \"alex_8\"\n",
        "params_file = model_version + '_params.pth' #model version to use\n",
        "\n",
        "#get model\n",
        "model_dir = '/content/drive/My Drive/Lake detection/models/'\n",
        "\n",
        "params = torch.load(model_dir + params_file)\n",
        "model_name = params['name']\n",
        "model = torch.load(model_dir + model_name)\n",
        "\n",
        "for param in model.parameters():\n",
        "    param.requires_grad = False\n",
        "\n",
        "model.eval();\n",
        "\n",
        "preprocess = transforms.Compose([transforms.ToTensor(),\n",
        "        transforms.Normalize([0.485, 0.456, 0.406], \n",
        "                             [0.229, 0.224, 0.225])\n",
        "                                     ])"
      ],
      "execution_count": null,
      "outputs": []
    },
    {
      "cell_type": "code",
      "metadata": {
        "id": "DUA66qpFOHGo"
      },
      "source": [
        "def get_prediction(probs, th):\n",
        "\n",
        "    if np.asarray(probs.cpu()[0])[4] > th:\n",
        "        predicted = 4\n",
        "    else:\n",
        "        pred = np.asarray(probs.cpu()[0])\n",
        "        pred[4] = 0\n",
        "        predicted = np.argmax(pred)\n",
        "\n",
        "    return predicted"
      ],
      "execution_count": null,
      "outputs": []
    },
    {
      "cell_type": "markdown",
      "metadata": {
        "id": "0Udu0k7XJKUJ"
      },
      "source": [
        "# **Classify tiles**"
      ]
    },
    {
      "cell_type": "code",
      "metadata": {
        "id": "DMawRV8XTHX1"
      },
      "source": [
        "th = 0.7\n"
      ],
      "execution_count": null,
      "outputs": []
    },
    {
      "cell_type": "code",
      "metadata": {
        "id": "ElOIW_2LwI6T",
        "colab": {
          "base_uri": "https://localhost:8080/"
        },
        "outputId": "adbf7d30-77f7-4a4e-d140-6b7eff766892"
      },
      "source": [
        "#ice test\n",
        "clas = 6\n",
        "types = {0:'smooth ice', 1:'textured ice', 2:'remnant', 3:'water', 4:'subsurface', 5:'mountains', 6:'land'}\n",
        "print(types[clas])\n",
        "ice_imgs = glob('/content/drive/My Drive/Lake detection/greenland/test/' + str(clas) + '/*.jpg')\n",
        "ice = 0\n",
        "ice2 = 0\n",
        "sub = 0\n",
        "rem = 0\n",
        "wat = 0 \n",
        "mtn = 0\n",
        "land = 0\n",
        "\n",
        "for img_path in ice_imgs:\n",
        "    img = Image.open(img_path)\n",
        "    img = preprocess(img)\n",
        "    img2 = np.expand_dims(img, 0) #Convert 2D image to 1D vector\n",
        "    img2 = torch.from_numpy(img2)\n",
        "\n",
        "    #classify image\n",
        "    inputs = Variable(img2).to(device)\n",
        "    outputs = model(inputs) #labels\n",
        "    probabilites = torch.softmax(outputs.data, 1) #get probability for each class\n",
        "    pred = get_prediction(probabilites, th)\n",
        "    if pred == 0:\n",
        "      ice = ice + 1\n",
        "    elif pred == 1:\n",
        "      ice2 = ice2 + 1\n",
        "    elif pred == 2:\n",
        "      rem = rem + 1\n",
        "    elif pred == 3:\n",
        "      wat = wat + 1\n",
        "    elif pred == 4:\n",
        "      sub = sub + 1\n",
        "    elif pred == 5:\n",
        "      mtn = mtn + 1\n",
        "    elif pred == 6:\n",
        "      land = land + 1\n",
        "\n",
        "print(f'classified as smooth ice: {ice}')\n",
        "print(f'classified as textured ice: {ice2}')\n",
        "print(f'classified as subsurface: {sub}')\n",
        "print(f'classified as remnant: {rem}')\n",
        "print(f'classified as water: {wat}')\n",
        "print(f'classified as mtn: {mtn}')\n",
        "print(f'classified as land: {land}')"
      ],
      "execution_count": null,
      "outputs": [
        {
          "output_type": "stream",
          "text": [
            "land\n",
            "classified as smooth ice: 1\n",
            "classified as textured ice: 1\n",
            "classified as subsurface: 0\n",
            "classified as remnant: 1\n",
            "classified as water: 0\n",
            "classified as mtn: 0\n",
            "classified as land: 31\n"
          ],
          "name": "stdout"
        }
      ]
    },
    {
      "cell_type": "code",
      "metadata": {
        "id": "35rYpaF1ADUn",
        "colab": {
          "base_uri": "https://localhost:8080/",
          "height": 35
        },
        "outputId": "31661b1b-4455-4450-8564-421167de732c"
      },
      "source": [
        "precision = 184/(184+14)\n",
        "recall = 184/(184+25)\n",
        "F1 = 2*precision*recall/(precision + recall)\n",
        "print(precision, recall, F1)"
      ],
      "execution_count": null,
      "outputs": [
        {
          "output_type": "stream",
          "text": [
            "0.9292929292929293 0.8803827751196173 0.9041769041769042\n"
          ],
          "name": "stdout"
        }
      ]
    },
    {
      "cell_type": "code",
      "metadata": {
        "id": "9tsvDR015kgl"
      },
      "source": [
        "y_true = list()\n",
        "y_pred = list()\n",
        "for i in range(172):\n",
        "  y_true.append(0)\n",
        "  y_pred.append(0)\n",
        "for i in range(6):\n",
        "  y_true.append(1)\n",
        "  y_pred.append(0)\n",
        "y_true.append(2)\n",
        "y_pred.append(0)\n",
        "y_true.append(6)\n",
        "y_pred.append(0)\n",
        "for i in range(16):\n",
        "  y_true.append(0)\n",
        "  y_pred.append(1)\n",
        "for i in range(110):\n",
        "  y_true.append(1)\n",
        "  y_pred.append(1)\n",
        "for i in range(17):\n",
        "  y_true.append(2)\n",
        "  y_pred.append(1)\n",
        "for i in range(16):\n",
        "  y_true.append(4)\n",
        "  y_pred.append(1)\n",
        "y_true.append(5)\n",
        "y_pred.append(1)\n",
        "y_true.append(6)\n",
        "y_pred.append(1)\n",
        "y_true.append(0)\n",
        "y_pred.append(2)\n",
        "for i in range(12):\n",
        "  y_true.append(1)\n",
        "  y_pred.append(2)\n",
        "for i in range(195):\n",
        "  y_true.append(2)\n",
        "  y_pred.append(2)\n",
        "for i in range(7):\n",
        "  y_true.append(4)\n",
        "  y_pred.append(2)\n",
        "for i in range(14):\n",
        "  y_true.append(3)\n",
        "  y_pred.append(3)\n",
        "y_true.append(6)\n",
        "y_pred.append(2)\n",
        "for i in range(2):\n",
        "  y_true.append(0)\n",
        "  y_pred.append(4)\n",
        "for i in range(7):\n",
        "  y_true.append(1)\n",
        "  y_pred.append(4)\n",
        "for i in range(5):\n",
        "  y_true.append(2)\n",
        "  y_pred.append(4)\n",
        "for i in range(184):\n",
        "  y_true.append(4)\n",
        "  y_pred.append(4)\n",
        "for i in range(3):\n",
        "  y_true.append(1)\n",
        "  y_pred.append(5)\n",
        "for i in range(2):\n",
        "  y_true.append(4)\n",
        "  y_pred.append(5)\n",
        "y_true.append(2)\n",
        "y_pred.append(5)\n",
        "for i in range(76):\n",
        "  y_true.append(5)\n",
        "  y_pred.append(5)\n",
        "for i in range(2):\n",
        "  y_true.append(2)\n",
        "  y_pred.append(6)\n",
        "for i in range(4):\n",
        "  y_true.append(5)\n",
        "  y_pred.append(6)\n",
        "for i in range(31):\n",
        "  y_true.append(6)\n",
        "  y_pred.append(6)\n"
      ],
      "execution_count": null,
      "outputs": []
    },
    {
      "cell_type": "code",
      "metadata": {
        "id": "wbRmvp1y_nY0"
      },
      "source": [
        "import seaborn as sns\n",
        "from sklearn.metrics import confusion_matrix"
      ],
      "execution_count": null,
      "outputs": []
    },
    {
      "cell_type": "code",
      "metadata": {
        "colab": {
          "base_uri": "https://localhost:8080/",
          "height": 742
        },
        "id": "lKMs0QkA9ZTV",
        "outputId": "130c9824-7cd9-42b4-d96b-c908225c87bb"
      },
      "source": [
        "\n",
        "labels = ['smooth \\nice', 'textured \\nice', 'remnant \\nlake', 'ocean', 'buried \\nlake', 'land', 'mountain']\n",
        "c = confusion_matrix(y_true, y_pred, normalize = 'pred')\n",
        "\n",
        "fig, ax = plt.subplots(1,1,figsize = (12,10))\n",
        "sns.heatmap(c, annot=True, fmt = \".1%\", cmap = 'Greens',cbar = False,square = True,linecolor = 'gray', linewidths = 1, annot_kws={'fontsize':'large'})\n",
        "ax.set_xlabel('Predicted', fontsize = 16)\n",
        "ax.set_ylabel('Actual', fontsize = 16)\n",
        "ax.set_xticklabels(labels, fontsize = 12)\n",
        "ax.set_yticklabels(labels, fontsize = 12, rotation = 00, va=\"center\")"
      ],
      "execution_count": null,
      "outputs": [
        {
          "output_type": "execute_result",
          "data": {
            "text/plain": [
              "[Text(0, 0.5, 'smooth \\nice'),\n",
              " Text(0, 1.5, 'textured \\nice'),\n",
              " Text(0, 2.5, 'remnant \\nlake'),\n",
              " Text(0, 3.5, 'ocean'),\n",
              " Text(0, 4.5, 'buried \\nlake'),\n",
              " Text(0, 5.5, 'land'),\n",
              " Text(0, 6.5, 'mountain')]"
            ]
          },
          "metadata": {
            "tags": []
          },
          "execution_count": 77
        },
        {
          "output_type": "display_data",
          "data": {
            "image/png": "[encoded data removed]",
            "text/plain": [
              "<Figure size 864x720 with 1 Axes>"
            ]
          },
          "metadata": {
            "tags": [],
            "needs_background": "light"
          }
        }
      ]
    },
    {
      "cell_type": "code",
      "metadata": {
        "id": "ZQjQyz8K9_Yc"
      },
      "source": [
        ""
      ],
      "execution_count": null,
      "outputs": []
    }
  ]
}