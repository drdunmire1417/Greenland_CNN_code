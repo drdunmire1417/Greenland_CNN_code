{
  "nbformat": 4,
  "nbformat_minor": 0,
  "metadata": {
    "colab": {
      "name": "train_model.ipynb",
      "provenance": [],
      "collapsed_sections": []
    },
    "kernelspec": {
      "name": "python3",
      "display_name": "Python 3"
    },
    "accelerator": "GPU",
    "widgets": {
      "application/vnd.jupyter.widget-state+json": {
        "316964c26a414ee1887e27c56122157f": {
          "model_module": "@jupyter-widgets/controls",
          "model_name": "HBoxModel",
          "state": {
            "_view_name": "HBoxView",
            "_dom_classes": [],
            "_model_name": "HBoxModel",
            "_view_module": "@jupyter-widgets/controls",
            "_model_module_version": "1.5.0",
            "_view_count": null,
            "_view_module_version": "1.5.0",
            "box_style": "",
            "layout": "IPY_MODEL_4fc4b6520e43437083b08c65b0f9b26b",
            "_model_module": "@jupyter-widgets/controls",
            "children": [
              "IPY_MODEL_cc8f4c5b67a142f59ed51661b2e483f2",
              "IPY_MODEL_1209eb11c08547f48884b538e44500be"
            ]
          }
        },
        "4fc4b6520e43437083b08c65b0f9b26b": {
          "model_module": "@jupyter-widgets/base",
          "model_name": "LayoutModel",
          "state": {
            "_view_name": "LayoutView",
            "grid_template_rows": null,
            "right": null,
            "justify_content": null,
            "_view_module": "@jupyter-widgets/base",
            "overflow": null,
            "_model_module_version": "1.2.0",
            "_view_count": null,
            "flex_flow": null,
            "width": null,
            "min_width": null,
            "border": null,
            "align_items": null,
            "bottom": null,
            "_model_module": "@jupyter-widgets/base",
            "top": null,
            "grid_column": null,
            "overflow_y": null,
            "overflow_x": null,
            "grid_auto_flow": null,
            "grid_area": null,
            "grid_template_columns": null,
            "flex": null,
            "_model_name": "LayoutModel",
            "justify_items": null,
            "grid_row": null,
            "max_height": null,
            "align_content": null,
            "visibility": null,
            "align_self": null,
            "height": null,
            "min_height": null,
            "padding": null,
            "grid_auto_rows": null,
            "grid_gap": null,
            "max_width": null,
            "order": null,
            "_view_module_version": "1.2.0",
            "grid_template_areas": null,
            "object_position": null,
            "object_fit": null,
            "grid_auto_columns": null,
            "margin": null,
            "display": null,
            "left": null
          }
        },
        "cc8f4c5b67a142f59ed51661b2e483f2": {
          "model_module": "@jupyter-widgets/controls",
          "model_name": "FloatProgressModel",
          "state": {
            "_view_name": "ProgressView",
            "style": "IPY_MODEL_9467fc6ca1144758b0f37331e1b23030",
            "_dom_classes": [],
            "description": "100%",
            "_model_name": "FloatProgressModel",
            "bar_style": "success",
            "max": 17736997,
            "_view_module": "@jupyter-widgets/controls",
            "_model_module_version": "1.5.0",
            "value": 17736997,
            "_view_count": null,
            "_view_module_version": "1.5.0",
            "orientation": "horizontal",
            "min": 0,
            "description_tooltip": null,
            "_model_module": "@jupyter-widgets/controls",
            "layout": "IPY_MODEL_9eece5d9b2a04b06ac18058dda481d59"
          }
        },
        "1209eb11c08547f48884b538e44500be": {
          "model_module": "@jupyter-widgets/controls",
          "model_name": "HTMLModel",
          "state": {
            "_view_name": "HTMLView",
            "style": "IPY_MODEL_bd50d9dc880041919c60572049e6a7f4",
            "_dom_classes": [],
            "description": "",
            "_model_name": "HTMLModel",
            "placeholder": "​",
            "_view_module": "@jupyter-widgets/controls",
            "_model_module_version": "1.5.0",
            "value": " 16.9M/16.9M [00:00&lt;00:00, 29.5MB/s]",
            "_view_count": null,
            "_view_module_version": "1.5.0",
            "description_tooltip": null,
            "_model_module": "@jupyter-widgets/controls",
            "layout": "IPY_MODEL_e25bf1c6686b467e9eee1c51478a5cac"
          }
        },
        "9467fc6ca1144758b0f37331e1b23030": {
          "model_module": "@jupyter-widgets/controls",
          "model_name": "ProgressStyleModel",
          "state": {
            "_view_name": "StyleView",
            "_model_name": "ProgressStyleModel",
            "description_width": "initial",
            "_view_module": "@jupyter-widgets/base",
            "_model_module_version": "1.5.0",
            "_view_count": null,
            "_view_module_version": "1.2.0",
            "bar_color": null,
            "_model_module": "@jupyter-widgets/controls"
          }
        },
        "9eece5d9b2a04b06ac18058dda481d59": {
          "model_module": "@jupyter-widgets/base",
          "model_name": "LayoutModel",
          "state": {
            "_view_name": "LayoutView",
            "grid_template_rows": null,
            "right": null,
            "justify_content": null,
            "_view_module": "@jupyter-widgets/base",
            "overflow": null,
            "_model_module_version": "1.2.0",
            "_view_count": null,
            "flex_flow": null,
            "width": null,
            "min_width": null,
            "border": null,
            "align_items": null,
            "bottom": null,
            "_model_module": "@jupyter-widgets/base",
            "top": null,
            "grid_column": null,
            "overflow_y": null,
            "overflow_x": null,
            "grid_auto_flow": null,
            "grid_area": null,
            "grid_template_columns": null,
            "flex": null,
            "_model_name": "LayoutModel",
            "justify_items": null,
            "grid_row": null,
            "max_height": null,
            "align_content": null,
            "visibility": null,
            "align_self": null,
            "height": null,
            "min_height": null,
            "padding": null,
            "grid_auto_rows": null,
            "grid_gap": null,
            "max_width": null,
            "order": null,
            "_view_module_version": "1.2.0",
            "grid_template_areas": null,
            "object_position": null,
            "object_fit": null,
            "grid_auto_columns": null,
            "margin": null,
            "display": null,
            "left": null
          }
        },
        "bd50d9dc880041919c60572049e6a7f4": {
          "model_module": "@jupyter-widgets/controls",
          "model_name": "DescriptionStyleModel",
          "state": {
            "_view_name": "StyleView",
            "_model_name": "DescriptionStyleModel",
            "description_width": "",
            "_view_module": "@jupyter-widgets/base",
            "_model_module_version": "1.5.0",
            "_view_count": null,
            "_view_module_version": "1.2.0",
            "_model_module": "@jupyter-widgets/controls"
          }
        },
        "e25bf1c6686b467e9eee1c51478a5cac": {
          "model_module": "@jupyter-widgets/base",
          "model_name": "LayoutModel",
          "state": {
            "_view_name": "LayoutView",
            "grid_template_rows": null,
            "right": null,
            "justify_content": null,
            "_view_module": "@jupyter-widgets/base",
            "overflow": null,
            "_model_module_version": "1.2.0",
            "_view_count": null,
            "flex_flow": null,
            "width": null,
            "min_width": null,
            "border": null,
            "align_items": null,
            "bottom": null,
            "_model_module": "@jupyter-widgets/base",
            "top": null,
            "grid_column": null,
            "overflow_y": null,
            "overflow_x": null,
            "grid_auto_flow": null,
            "grid_area": null,
            "grid_template_columns": null,
            "flex": null,
            "_model_name": "LayoutModel",
            "justify_items": null,
            "grid_row": null,
            "max_height": null,
            "align_content": null,
            "visibility": null,
            "align_self": null,
            "height": null,
            "min_height": null,
            "padding": null,
            "grid_auto_rows": null,
            "grid_gap": null,
            "max_width": null,
            "order": null,
            "_view_module_version": "1.2.0",
            "grid_template_areas": null,
            "object_position": null,
            "object_fit": null,
            "grid_auto_columns": null,
            "margin": null,
            "display": null,
            "left": null
          }
        }
      }
    }
  },
  "cells": [
    {
      "cell_type": "code",
      "metadata": {
        "id": "f2VP0lO5iXj_"
      },
      "source": [
        "# Import resources\n",
        "%matplotlib inline\n",
        "%config InlineBackend.figure_format = 'retina'\n",
        "import time\n",
        "import json\n",
        "import copy\n",
        "import matplotlib.pyplot as plt\n",
        "import seaborn as sns\n",
        "import numpy as np\n",
        "import PIL\n",
        "from PIL import Image\n",
        "from collections import OrderedDict\n",
        "import torch\n",
        "from torch import nn, optim, cuda\n",
        "from torch.optim import lr_scheduler\n",
        "from torch.autograd import Variable\n",
        "import torchvision\n",
        "from torchvision import datasets, models, transforms\n",
        "from torch.utils.data.sampler import SubsetRandomSampler\n",
        "import torch.nn as nn\n",
        "import torch.nn.functional as F\n",
        "import os\n",
        "from glob import glob\n",
        "import shutil"
      ],
      "execution_count": null,
      "outputs": []
    },
    {
      "cell_type": "code",
      "metadata": {
        "id": "VWkX8PaSjuN8",
        "colab": {
          "base_uri": "https://localhost:8080/",
          "height": 35
        },
        "outputId": "45524bbf-97c8-45ac-9626-309099353c79"
      },
      "source": [
        "\n",
        "device = torch.device(\"cuda\" if torch.cuda.is_available() \n",
        "                                  else \"cpu\")\n",
        "print(device)"
      ],
      "execution_count": null,
      "outputs": [
        {
          "output_type": "stream",
          "text": [
            "cuda\n"
          ],
          "name": "stdout"
        }
      ]
    },
    {
      "cell_type": "code",
      "metadata": {
        "id": "hnsg1v-_j2AX",
        "colab": {
          "base_uri": "https://localhost:8080/",
          "height": 35
        },
        "outputId": "88f1464e-f873-497f-b1b1-29b39e583050"
      },
      "source": [
        "from google.colab import drive\n",
        "drive.mount('/content/drive')"
      ],
      "execution_count": null,
      "outputs": [
        {
          "output_type": "stream",
          "text": [
            "Drive already mounted at /content/drive; to attempt to forcibly remount, call drive.mount(\"/content/drive\", force_remount=True).\n"
          ],
          "name": "stdout"
        }
      ]
    },
    {
      "cell_type": "code",
      "metadata": {
        "id": "FdlakAU8rxZQ",
        "colab": {
          "base_uri": "https://localhost:8080/",
          "height": 138,
          "referenced_widgets": [
            "316964c26a414ee1887e27c56122157f",
            "4fc4b6520e43437083b08c65b0f9b26b",
            "cc8f4c5b67a142f59ed51661b2e483f2",
            "1209eb11c08547f48884b538e44500be",
            "9467fc6ca1144758b0f37331e1b23030",
            "9eece5d9b2a04b06ac18058dda481d59",
            "bd50d9dc880041919c60572049e6a7f4",
            "e25bf1c6686b467e9eee1c51478a5cac"
          ]
        },
        "outputId": "fae5bc85-d355-4e13-9449-87076f3740f5"
      },
      "source": [
        "#modify hyperparameters\n",
        "model_type = 'mnas'\n",
        "act = 'relu' #no capitals\n",
        "opt = 'sgd' #no capitals\n",
        "dropout = 0.2\n",
        "batch_size = 32\n",
        "#data_type = 'HH'\n",
        "\n",
        "num_classes = 7\n",
        "iteration = 0\n",
        "\n",
        "#download model\n",
        "if model_type == 'resnet':\n",
        "  m = models.resnet152(pretrained=True) \n",
        "  model = models.resnet152(pretrained=True)\n",
        "  num_in_features = model.fc.in_features  \n",
        "if model_type == 'vgg':\n",
        "  m = models.vgg19(pretrained=True) \n",
        "  model = models.vgg19(pretrained=True) \n",
        "  num_in_features = 25088 \n",
        "if model_type == 'densenet':\n",
        "  m = models.densenet161(pretrained=True) \n",
        "  model = models.densenet161(pretrained=True)\n",
        "  num_in_features = 2208 \n",
        "if model_type == 'google':\n",
        "  m = models.googlenet(pretrained = True)\n",
        "  model = models.googlenet(pretrained = True)\n",
        "  num_in_features = model.fc.in_features  \n",
        "if model_type == 'alex':\n",
        "  m = models.alexnet(pretrained=True)\n",
        "  model = models.alexnet(pretrained=True)\n",
        "  num_in_features = 9216\n",
        "if model_type == 'shuffle':\n",
        "  m = models.shufflenet_v2_x1_0(pretrained=True)\n",
        "  model = models.shufflenet_v2_x1_0(pretrained=True)\n",
        "  num_in_features = model.fc.in_features\n",
        "if model_type == 'mobile':\n",
        "  m =models.mobilenet_v2(pretrained=True)\n",
        "  model = models.mobilenet_v2(pretrained=True)\n",
        "  num_in_features = 1280\n",
        "if model_type == 'mnas':\n",
        "  m =  models.mnasnet1_0(pretrained=True)\n",
        "  model = models.mnasnet1_0(pretrained=True)\n",
        "  num_in_features = 1280\n",
        "\n",
        "\n",
        "\n",
        "#get data directory\n",
        "data_dir  = \"/content/drive/My Drive/Lake detection/greenland/training_data\"\n",
        "\n",
        "#get existing models\n",
        "model_dir = \"/content/drive/My Drive/Lake detection/models\"\n",
        "existing_models = glob(model_dir + '/*.pth')\n",
        "existing_models2 = list()\n",
        "for x in existing_models:\n",
        "  existing_models2.append(x.split('/')[-1])\n",
        "print(existing_models2)\n",
        "\n",
        "#check if model name already exists, updata name\n",
        "model_name = model_type + '_real.pth'\n",
        "# while model_name in existing_models2:\n",
        "#   iteration += 1\n",
        "#   model_name = model_type + '_' + str(iteration) + '.pth'\n",
        "\n",
        "print(model_name)"
      ],
      "execution_count": null,
      "outputs": [
        {
          "output_type": "stream",
          "text": [
            "Downloading: \"https://download.pytorch.org/models/mnasnet1.0_top1_73.512-f206786ef8.pth\" to /root/.cache/torch/hub/checkpoints/mnasnet1.0_top1_73.512-f206786ef8.pth\n"
          ],
          "name": "stderr"
        },
        {
          "output_type": "display_data",
          "data": {
            "application/vnd.jupyter.widget-view+json": {
              "model_id": "316964c26a414ee1887e27c56122157f",
              "version_minor": 0,
              "version_major": 2
            },
            "text/plain": [
              "HBox(children=(FloatProgress(value=0.0, max=17736997.0), HTML(value='')))"
            ]
          },
          "metadata": {
            "tags": []
          }
        },
        {
          "output_type": "stream",
          "text": [
            "\n",
            "['resnet_0.pth', 'resnet_0_params.pth', 'vgg_0.pth', 'vgg_0_params.pth', 'densenet_0.pth', 'densenet_0_params.pth', 'google_0.pth', 'google_0_params.pth', 'alex_0.pth', 'alex_0_params.pth', 'shuffle_0.pth', 'shuffle_0_params.pth', 'mobile_0.pth', 'mobile_0_params.pth', 'mnas_0.pth', 'mnas_0_params.pth', 'alex_1.pth', 'alex_1_params.pth', 'alex_2.pth', 'alex_2_params.pth', 'alex_3.pth', 'alex_3_params.pth', 'alex_4.pth', 'alex_4_params.pth', 'alex_5.pth', 'alex_5_params.pth', 'alex_6.pth', 'alex_6_params.pth', 'alex_7.pth', 'alex_7_params.pth', 'resnet_1.pth', 'resnet_1_params.pth', 'vgg_1.pth', 'vgg_1_params.pth', 'densenet_1.pth', 'densenet_1_params.pth', 'google_1.pth', 'google_1_params.pth', 'shuffle_1.pth', 'shuffle_1_params.pth', 'mobile_1.pth', 'mobile_1_params.pth', 'mnas_1.pth', 'mnas_1_params.pth', 'alex_8.pth', 'alex_8_params.pth', 'alex_9.pth', 'alex_9_params.pth', 'vgg_real.pth', 'vgg_real_params.pth', 'alex_real_params.pth', 'alex_real.pth', 'resnet_real.pth', 'resnet_real_params.pth', 'densenet_real.pth', 'densenet_real_params.pth', 'google_real.pth', 'google_real_params.pth', 'shuffle_real.pth', 'shuffle_real_params.pth', 'mobile_real.pth', 'mobile_real_params.pth']\n",
            "mnas_real.pth\n"
          ],
          "name": "stdout"
        }
      ]
    },
    {
      "cell_type": "code",
      "metadata": {
        "id": "QL5nZQdfsaon",
        "colab": {
          "base_uri": "https://localhost:8080/",
          "height": 35
        },
        "outputId": "244428cf-9266-4c51-baee-c2b54df590d6"
      },
      "source": [
        "data_transforms = {\n",
        "    'train': transforms.Compose([\n",
        "        transforms.RandomRotation(30),\n",
        "        transforms.RandomHorizontalFlip(),\n",
        "        transforms.ToTensor(),\n",
        "        transforms.Normalize([0.485, 0.456, 0.406], \n",
        "                             [0.229, 0.224, 0.225])\n",
        "    ]),\n",
        "    'valid': transforms.Compose([\n",
        "        transforms.ToTensor(),\n",
        "        transforms.Normalize([0.485, 0.456, 0.406], \n",
        "                             [0.229, 0.224, 0.225])\n",
        "    ])\n",
        "}\n",
        "# TODO: Load the datasets with ImageFolder\n",
        "image_datasets = {x: datasets.ImageFolder(os.path.join(data_dir, x),\n",
        "                                          data_transforms[x])\n",
        "                  for x in ['train', 'valid']}\n",
        "# TODO: Using the image datasets and the trainforms, define the dataloaders\n",
        "dataloaders = {x: torch.utils.data.DataLoader(image_datasets[x], batch_size=batch_size,\n",
        "                                             shuffle=True, num_workers=4)\n",
        "              for x in ['train', 'valid']}\n",
        "class_names = image_datasets['train'].classes\n",
        "dataset_sizes = {x: len(image_datasets[x]) for x in ['train', 'valid']}\n",
        "print(dataset_sizes)"
      ],
      "execution_count": null,
      "outputs": [
        {
          "output_type": "stream",
          "text": [
            "{'train': 4012, 'valid': 888}\n"
          ],
          "name": "stdout"
        }
      ]
    },
    {
      "cell_type": "code",
      "metadata": {
        "id": "nNJL3AmV2m1g"
      },
      "source": [
        "#Set up fully connected layers for Resnet model:\n",
        "if model_type == 'resnet' or model_type == 'google' or model_type == 'shuffle':\n",
        "  for param in model.parameters():\n",
        "      param.requires_grad = False\n",
        "\n",
        "  if act == 'relu':    \n",
        "    model.fc = nn.Sequential(nn.Linear(num_in_features, 512),\n",
        "                                  nn.ReLU(),\n",
        "                                  nn.Dropout(dropout),\n",
        "                                  nn.Linear(512, num_classes),\n",
        "                                  nn.LogSoftmax(dim=1))\n",
        "  if act == 'sigmoid':    \n",
        "    model.fc = nn.Sequential(nn.Linear(num_in_features, 512),\n",
        "                                  nn.Sigmoid(),\n",
        "                                  nn.Dropout(dropout),\n",
        "                                  nn.Linear(512, num_classes),\n",
        "                                  nn.LogSoftmax(dim=1))\n",
        "  if act == 'tanh':    \n",
        "    model.fc = nn.Sequential(nn.Linear(num_in_features, 512),\n",
        "                                  nn.Tanh(),\n",
        "                                  nn.Dropout(dropout),\n",
        "                                  nn.Linear(512, num_classes),\n",
        "                                  nn.LogSoftmax(dim=1))\n",
        "\n",
        "#set up fully connected layers for vgg and densenet:\n",
        "elif model_type == 'vgg' or model_type == 'densenet' or model_type == 'alex' or model_type == 'mobile' or model_type == 'mnas':\n",
        "    for param in model.parameters():\n",
        "      param.requires_grad = False\n",
        "    \n",
        "    classifier = nn.Sequential()\n",
        "    classifier.add_module('fc0', nn.Linear(num_in_features, 512))\n",
        "    if act == 'relu':\n",
        "      classifier.add_module('relu0', nn.ReLU())\n",
        "    if act == 'sigmoid':\n",
        "      classifier.add_module('sigmoid0', nn.Sigmoid())\n",
        "    if act == 'tanh':\n",
        "      classifier.add_module('tanh0', nn.Tanh())\n",
        "    classifier.add_module('drop0', nn.Dropout(dropout))\n",
        "    classifier.add_module('fc1', nn.Linear(512,num_classes))\n",
        "    classifier.add_module('out', nn.LogSoftmax(dim=1))\n",
        "\n",
        "    model.classifier = classifier\n",
        "\n",
        "#other model hyperparameters\n",
        "criterion = nn.NLLLoss()\n",
        "if opt == 'sgd':\n",
        "  optimizer = optim.SGD(model.parameters(), lr=0.005, momentum=0.9)\n",
        "if opt == 'adam':\n",
        "  optimizer = optim.Adam(model.parameters())\n",
        "if opt == 'adadelta':\n",
        "  optimizer = optim.Adadelta(model.parameters())\n",
        "# Decay LR by a factor of 0.1 every 7 epochs\n",
        "scheduler = lr_scheduler.StepLR(optimizer, step_size=7, gamma=0.1)\n",
        "model.to(device);"
      ],
      "execution_count": null,
      "outputs": []
    },
    {
      "cell_type": "code",
      "metadata": {
        "id": "0B-LnDlM4WPg"
      },
      "source": [
        "cuda.empty_cache()"
      ],
      "execution_count": null,
      "outputs": []
    },
    {
      "cell_type": "code",
      "metadata": {
        "id": "BX9AgzuQaQCq"
      },
      "source": [
        "def train_model(model, criterion, optimizer, scheduler, num_epochs=20):\n",
        "    since = time.time()\n",
        "\n",
        "    best_model_wts = copy.deepcopy(model.state_dict())\n",
        "    best_acc = 0.0\n",
        "\n",
        "    val_accs = list()\n",
        "    val_losses = list()\n",
        "    train_accs = list()\n",
        "    train_losses = list()\n",
        "\n",
        "    for epoch in range(num_epochs):\n",
        "        print('Epoch {}/{}'.format(epoch, num_epochs - 1))\n",
        "        print('-' * 10)\n",
        "\n",
        "        # Each epoch has a training and validation phase\n",
        "        for phase in ['train', 'valid']:\n",
        "            if phase == 'train':\n",
        "                model.train()  # Set model to training mode\n",
        "            else:\n",
        "                model.eval()   # Set model to evaluate mode\n",
        "\n",
        "            running_loss = 0.0\n",
        "            running_corrects = 0\n",
        "\n",
        "            # Iterate over data.\n",
        "            for inputs, labels in dataloaders[phase]:\n",
        "                inputs = inputs.to(device)\n",
        "                labels = labels.to(device)\n",
        "\n",
        "                # zero the parameter gradients\n",
        "                optimizer.zero_grad()\n",
        "\n",
        "                # forward\n",
        "                # track history if only in train\n",
        "                with torch.set_grad_enabled(phase == 'train'):\n",
        "                    outputs = model(inputs)\n",
        "                    _, preds = torch.max(outputs, 1)\n",
        "                    loss = criterion(outputs, labels)\n",
        "\n",
        "                    # backward + optimize only if in training phase\n",
        "                    if phase == 'train':\n",
        "                        loss.backward()\n",
        "                        optimizer.step()\n",
        "\n",
        "                # statistics\n",
        "                running_loss += loss.item() * inputs.size(0)\n",
        "                running_corrects += torch.sum(preds == labels.data)\n",
        "\n",
        "            if phase == 'train':\n",
        "                scheduler.step()\n",
        "\n",
        "            epoch_loss = running_loss / dataset_sizes[phase]\n",
        "            epoch_acc = running_corrects.double() / dataset_sizes[phase]\n",
        "\n",
        "            print('{} loss: {:.4f} Acc: {:.4f}'.format(\n",
        "                phase, epoch_loss, epoch_acc))\n",
        "\n",
        "            # deep copy the model\n",
        "            if phase == 'valid':\n",
        "                val_accs.append(epoch_acc)\n",
        "                val_losses.append(epoch_loss)\n",
        "                if epoch_acc > best_acc:\n",
        "                    best_acc = epoch_acc\n",
        "                    best_model_wts = copy.deepcopy(model.state_dict())\n",
        "\n",
        "            if phase == 'train':\n",
        "                train_accs.append(epoch_acc)\n",
        "                train_losses.append(epoch_loss)\n",
        "        print()\n",
        "\n",
        "    time_elapsed = time.time() - since\n",
        "    print('Training complete in {:.0f}m {:.0f}s'.format(\n",
        "        time_elapsed // 60, time_elapsed % 60))\n",
        "    print('Best val Acc: {:4f}'.format(best_acc))\n",
        "\n",
        "    # load best model weights\n",
        "    model.load_state_dict(best_model_wts)\n",
        "    return model, train_accs, train_losses, val_accs, val_losses, time_elapsed"
      ],
      "execution_count": null,
      "outputs": []
    },
    {
      "cell_type": "code",
      "metadata": {
        "id": "nmLbxYesJM55",
        "colab": {
          "base_uri": "https://localhost:8080/",
          "height": 1000
        },
        "outputId": "d262983f-3d46-496d-b440-8ef56c9adaa6"
      },
      "source": [
        "model, train_accs, train_losses, val_accs, val_losses, time_elapsed = train_model(model, criterion, optimizer, scheduler, num_epochs=20)"
      ],
      "execution_count": null,
      "outputs": [
        {
          "output_type": "stream",
          "text": [
            "Epoch 0/19\n",
            "----------\n",
            "train loss: 1.1906 Acc: 0.6062\n",
            "valid loss: 1.3870 Acc: 0.4550\n",
            "\n",
            "Epoch 1/19\n",
            "----------\n",
            "train loss: 0.6499 Acc: 0.7759\n",
            "valid loss: 1.2037 Acc: 0.5394\n",
            "\n",
            "Epoch 2/19\n",
            "----------\n",
            "train loss: 0.5601 Acc: 0.8028\n",
            "valid loss: 1.3347 Acc: 0.4797\n",
            "\n",
            "Epoch 3/19\n",
            "----------\n",
            "train loss: 0.5216 Acc: 0.8178\n",
            "valid loss: 1.2528 Acc: 0.5113\n",
            "\n",
            "Epoch 4/19\n",
            "----------\n",
            "train loss: 0.4875 Acc: 0.8285\n",
            "valid loss: 1.0822 Acc: 0.5867\n",
            "\n",
            "Epoch 5/19\n",
            "----------\n",
            "train loss: 0.4810 Acc: 0.8305\n",
            "valid loss: 1.0128 Acc: 0.6194\n",
            "\n",
            "Epoch 6/19\n",
            "----------\n",
            "train loss: 0.4620 Acc: 0.8357\n",
            "valid loss: 1.0986 Acc: 0.5833\n",
            "\n",
            "Epoch 7/19\n",
            "----------\n",
            "train loss: 0.4266 Acc: 0.8529\n",
            "valid loss: 0.9940 Acc: 0.6363\n",
            "\n",
            "Epoch 8/19\n",
            "----------\n",
            "train loss: 0.4181 Acc: 0.8559\n",
            "valid loss: 0.9442 Acc: 0.6532\n",
            "\n",
            "Epoch 9/19\n",
            "----------\n",
            "train loss: 0.4133 Acc: 0.8517\n",
            "valid loss: 0.9299 Acc: 0.6554\n",
            "\n",
            "Epoch 10/19\n",
            "----------\n",
            "train loss: 0.3926 Acc: 0.8614\n",
            "valid loss: 0.9076 Acc: 0.6622\n",
            "\n",
            "Epoch 11/19\n",
            "----------\n",
            "train loss: 0.4012 Acc: 0.8589\n",
            "valid loss: 0.8735 Acc: 0.6813\n",
            "\n",
            "Epoch 12/19\n",
            "----------\n",
            "train loss: 0.4136 Acc: 0.8492\n",
            "valid loss: 0.8211 Acc: 0.7027\n",
            "\n",
            "Epoch 13/19\n",
            "----------\n",
            "train loss: 0.4056 Acc: 0.8534\n",
            "valid loss: 0.8034 Acc: 0.7061\n",
            "\n",
            "Epoch 14/19\n",
            "----------\n",
            "train loss: 0.3979 Acc: 0.8614\n",
            "valid loss: 0.7726 Acc: 0.7185\n",
            "\n",
            "Epoch 15/19\n",
            "----------\n",
            "train loss: 0.3912 Acc: 0.8614\n",
            "valid loss: 0.7425 Acc: 0.7399\n",
            "\n",
            "Epoch 16/19\n",
            "----------\n",
            "train loss: 0.4031 Acc: 0.8562\n",
            "valid loss: 0.7205 Acc: 0.7477\n",
            "\n",
            "Epoch 17/19\n",
            "----------\n",
            "train loss: 0.3802 Acc: 0.8644\n",
            "valid loss: 0.6977 Acc: 0.7579\n",
            "\n",
            "Epoch 18/19\n",
            "----------\n",
            "train loss: 0.3977 Acc: 0.8622\n",
            "valid loss: 0.6805 Acc: 0.7624\n",
            "\n",
            "Epoch 19/19\n",
            "----------\n",
            "train loss: 0.4084 Acc: 0.8572\n",
            "valid loss: 0.6592 Acc: 0.7725\n",
            "\n",
            "Training complete in 5m 47s\n",
            "Best val Acc: 0.772523\n"
          ],
          "name": "stdout"
        }
      ]
    },
    {
      "cell_type": "code",
      "metadata": {
        "id": "DXON4SgKW51i"
      },
      "source": [
        "#model = torch.load(model_dir + '/' +model_name)\n",
        "#\n",
        "model.eval();\n",
        "\n",
        "preprocess = transforms.Compose([transforms.ToTensor(),\n",
        "        transforms.Normalize([0.485, 0.456, 0.406], \n",
        "                             [0.229, 0.224, 0.225])\n",
        "                                     ])\n",
        "\n",
        "val_imgs = sorted(glob('/content/drive/My Drive/Lake detection/greenland/training_data/all_valid/*.jpg'))"
      ],
      "execution_count": null,
      "outputs": []
    },
    {
      "cell_type": "code",
      "metadata": {
        "id": "N8b78ucAtE-I",
        "colab": {
          "base_uri": "https://localhost:8080/",
          "height": 265
        },
        "outputId": "1a613136-9c2f-472e-89e4-b56ca38897cd"
      },
      "source": [
        "plt.plot(train_losses, label='Training loss')\n",
        "plt.plot(val_losses, label='Validation loss')\n",
        "plt.legend(frameon=False)\n",
        "plt.show()"
      ],
      "execution_count": null,
      "outputs": [
        {
          "output_type": "display_data",
          "data": {
            "image/png": "[encoded data removed]",
            "text/plain": [
              "<Figure size 432x288 with 1 Axes>"
            ]
          },
          "metadata": {
            "tags": [],
            "image/png": {
              "width": 372,
              "height": 248
            },
            "needs_background": "light"
          }
        }
      ]
    },
    {
      "cell_type": "code",
      "metadata": {
        "id": "8T7G4wU1tzBK",
        "colab": {
          "base_uri": "https://localhost:8080/",
          "height": 265
        },
        "outputId": "9f792732-4cfd-4fc6-f1c7-cfa078977af1"
      },
      "source": [
        "plt.plot(train_accs, label='Training accuracy')\n",
        "plt.plot(val_accs, label='Validation accuracy')\n",
        "plt.legend(frameon=False)\n",
        "plt.show()"
      ],
      "execution_count": null,
      "outputs": [
        {
          "output_type": "display_data",
          "data": {
            "image/png": "[encoded data removed]",
            "text/plain": [
              "<Figure size 432x288 with 1 Axes>"
            ]
          },
          "metadata": {
            "tags": [],
            "image/png": {
              "width": 372,
              "height": 248
            },
            "needs_background": "light"
          }
        }
      ]
    },
    {
      "cell_type": "code",
      "metadata": {
        "id": "kodilCOZjJjt"
      },
      "source": [
        "torch.save(model, model_dir + '/' + model_name)\n"
      ],
      "execution_count": null,
      "outputs": []
    },
    {
      "cell_type": "code",
      "metadata": {
        "id": "1M0OF2_aL71V"
      },
      "source": [
        "def get_prediction(probs, th):\n",
        "    preds = np.asarray(probs.cpu()[0])\n",
        "    if preds[4] > th:\n",
        "        predicted = 4\n",
        "    else:\n",
        "        preds[4] = 0\n",
        "        predicted = np.argmax(preds)\n",
        "\n",
        "    return predicted"
      ],
      "execution_count": null,
      "outputs": []
    },
    {
      "cell_type": "code",
      "metadata": {
        "id": "tqwsczbWGyQK",
        "colab": {
          "base_uri": "https://localhost:8080/",
          "height": 52
        },
        "outputId": "da166dbe-46fc-43c2-a62b-defd425a2ecd"
      },
      "source": [
        "tn = 11\n",
        "threshold = np.linspace(0,1, tn)\n",
        "buried_lake_class = 4\n",
        "\n",
        "TP = np.zeros(tn)\n",
        "FN = np.zeros(tn) #false negatives\n",
        "FP = np.zeros(tn) #false positives\n",
        "TN = np.zeros(tn)\n",
        "# recall = np.zeros(tn)\n",
        "# precision = np.zeros(tn)\n",
        "# #F1 = np.zeros(tn)\n",
        "# FPR = np.zeros(tn)\n",
        "\n",
        "for val_img in val_imgs:\n",
        "    #val_img = val_imgs[i]\n",
        "    actual = int(val_img.split('/')[-1][-5])\n",
        "    #print('Actual', actual)\n",
        "    img = Image.open(val_img)\n",
        "    # plt.imshow(img) \n",
        "    # plt.show()\n",
        "    img2 = preprocess(img)\n",
        "    img2 = np.expand_dims(img2, 0) #Convert 2D image to 1D vector\n",
        "    img2 = torch.from_numpy(img2)\n",
        "\n",
        "    #classify image\n",
        "    inputs = Variable(img2).to(device)\n",
        "    inputs = inputs.float()\n",
        "    outputs = model(inputs) #labels\n",
        "    probabilities = torch.softmax(outputs.data, 1) #get probability for each class\n",
        "    #if actual == 4: print(np.asarray(probabilities.cpu()[0])[4])\n",
        "    \n",
        "    for i in range(tn):\n",
        "        th = threshold[i]\n",
        "        predicted = get_prediction(probabilities, th)\n",
        "        #print(f'{th:0.1f}, {predicted}')\n",
        "        \n",
        "        if actual == buried_lake_class and predicted == buried_lake_class:\n",
        "            TP[i] = TP[i] + 1\n",
        "\n",
        "        elif actual == buried_lake_class and predicted != buried_lake_class:\n",
        "            FN[i] = FN[i] + 1\n",
        "          \n",
        "        elif actual != buried_lake_class and predicted == buried_lake_class:\n",
        "            FP[i] = FP[i] + 1\n",
        "\n",
        "        elif actual != buried_lake_class and predicted != buried_lake_class:\n",
        "            TN[i] = TN[i] + 1\n",
        "\n",
        "\n",
        "recall = TP / (TP + FN)\n",
        "precision = TP / (TP + FP)\n",
        "FPR = (FP)/(TN + FP)\n",
        "recall[np.isnan(recall)] = 0\n",
        "precision[np.isnan(precision)] = 0\n",
        "FPR[np.isnan(FPR)] = 0\n",
        "F1 = (2*precision*recall)/(precision+recall)\n",
        "F1[np.isnan(F1)] = 0\n",
        "\n",
        "\n"
      ],
      "execution_count": null,
      "outputs": [
        {
          "output_type": "stream",
          "text": [
            "/usr/local/lib/python3.6/dist-packages/ipykernel_launcher.py:51: RuntimeWarning: invalid value encountered in true_divide\n",
            "/usr/local/lib/python3.6/dist-packages/ipykernel_launcher.py:56: RuntimeWarning: invalid value encountered in true_divide\n"
          ],
          "name": "stderr"
        }
      ]
    },
    {
      "cell_type": "code",
      "metadata": {
        "id": "cUL-_XSL0WD1"
      },
      "source": [
        "\n",
        "params = {'name':model_name,\n",
        "              'epochs': 20,\n",
        "              'batch_size': batch_size,\n",
        "              'model': m,\n",
        "              'scheduler': scheduler,\n",
        "              'optimizer': optimizer,\n",
        "              'train_loss': train_losses,\n",
        "              'train_acc': train_accs,\n",
        "              'val_loss': val_losses,\n",
        "              'val_acc': val_accs,\n",
        "              'precision': precision,\n",
        "              'recall': recall,\n",
        "              'F1': F1,\n",
        "              'FPR': FPR,\n",
        "              'time':time_elapsed\n",
        "}\n",
        "          \n",
        "torch.save(params, model_dir + '/' + model_name[:-4] + '_params.pth')"
      ],
      "execution_count": null,
      "outputs": []
    },
    {
      "cell_type": "code",
      "metadata": {
        "id": "xk3DpQurjWHM",
        "colab": {
          "base_uri": "https://localhost:8080/",
          "height": 35
        },
        "outputId": "814afb11-2858-4138-b047-d4e7ceaa3cb4"
      },
      "source": [
        "print(model_name)"
      ],
      "execution_count": null,
      "outputs": [
        {
          "output_type": "stream",
          "text": [
            "mnas_real.pth\n"
          ],
          "name": "stdout"
        }
      ]
    },
    {
      "cell_type": "code",
      "metadata": {
        "id": "OrEaiZXyErm_"
      },
      "source": [
        ""
      ],
      "execution_count": null,
      "outputs": []
    }
  ]
}